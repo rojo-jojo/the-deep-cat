{
 "cells": [
  {
   "cell_type": "code",
   "execution_count": 1,
   "id": "473ed485-da16-4f91-8b78-55636e44183d",
   "metadata": {},
   "outputs": [
    {
     "name": "stdout",
     "output_type": "stream",
     "text": [
      "x shape is:  (10000, 3072)\n",
      "y shape is:  (10000, 1)\n"
     ]
    }
   ],
   "source": [
    "import numpy as np\n",
    "import os\n",
    "import random\n",
    "\n",
    "def unpickle(file):\n",
    "    import pickle\n",
    "    with open(file, 'rb') as fo:\n",
    "        dict = pickle.load(fo, encoding='bytes')\n",
    "    return dict\n",
    "cifar_data_path = os.path.join('cifar-data','cifar-10-batches-py')\n",
    "path_batch_1 = os.path.join(cifar_data_path, 'data_batch_1')\n",
    "metadata_path = os.path.join(cifar_data_path, 'batches.meta')\n",
    "data = unpickle(path_batch_1)\n",
    "metadata = unpickle(metadata_path)\n",
    "X = np.array(data[b'data'])\n",
    "y = np.array(data[b'labels']).reshape(10000,-1)\n",
    "print(\"x shape is: \",X.shape)\n",
    "print(\"y shape is: \",y.shape)"
   ]
  },
  {
   "cell_type": "code",
   "execution_count": 52,
   "id": "151bb92b-12f3-4d1f-9094-72134c6468ba",
   "metadata": {},
   "outputs": [],
   "source": [
    "class nn:\n",
    "    \"\"\"\n",
    "    a0 -- w0 --> a1 -- w1 --> a2 --> y \n",
    "    \"\"\"\n",
    "    def __init__(self, X, y):\n",
    "        self.X = X\n",
    "        self.y = y\n",
    "    \n",
    "    def sigmoid(x, deriv=False):\n",
    "        if deriv is True:\n",
    "            return x*(1-x)\n",
    "        return 1/(1 + np.exp(-1*x))\n",
    "\n",
    "    def minibatch(self, batch_size = None):\n",
    "        if batch_size is not None:\n",
    "            end = self.X.shape[0]\n",
    "            begin = random.randint(0, end - batch_size - 1)\n",
    "            return self.X[begin: begin + batch_size], self.y[begin: begin + batch_size]\n",
    "        return self.X, self.y\n",
    "\n",
    "    def log_matrix(x):\n",
    "        return np.sum(np.abs(x))\n",
    "    \n",
    "    def train_nn(self, batch_size, lr= 0.001):\n",
    "        \n",
    "        X, y = self.minibatch(batch_size)\n",
    "\n",
    "        W0 = 2*np.random.random(tuple(reversed(list(X.shape)))) - 1\n",
    "        W1 = 2*np.random.random(y.shape) - 1\n",
    "        a0, y = self.minibatch(batch_size)\n",
    "        for j in range(10000):\n",
    "           \n",
    "            a1 = nn.sigmoid(np.dot(a0,W0))\n",
    "            a2 = nn.sigmoid(np.dot(a1,W1))\n",
    "            \n",
    "            a2_err = y - a2\n",
    "            a2_del = a2_err * nn.sigmoid(a2, deriv=True)\n",
    "            \n",
    "            a1_err = a2_del.dot(W1.T)\n",
    "            a1_del = a1_err * nn.sigmoid(a1, deriv=True)\n",
    "            \n",
    "            W1 += (lr * a1.T.dot(a2_del))\n",
    "            W0 += (lr * a0.T.dot(a1_del))\n",
    "            if j % 500 == 0:\n",
    "                print(f\"error loss: {np.mean(np.abs(a2_err))}, w0 = {np.sum(W0)}, w1 = {np.sum(W1)}\")\n",
    "                # print(f\"a1 = {nn.log_matrix(a1)}, a2 = {nn.log_matrix(a2)}\")\n",
    "                # print(f\"errors -> a1_err: {np.sum(a1_err)}, a2_err: {np.sum(a2_err)}\")\n",
    "                # print(f\"sigmoid ' a2 = {nn.log_matrix(nn.sigmoid(a2, deriv=True))}, sigmoid ' a1 = {nn.log_matrix(nn.sigmoid(a1, deriv=True))},\")\n",
    "                # print(f\"deltas -> a1_del: {np.sum(a1_del)}, a2_del: {np.sum(a2_del)}\\n\")\n",
    "            \n",
    "    \n",
    "    def predict(self, X):\n",
    "        W0, W1 = self.W0, self.W1\n",
    "        a1 = nn.sigmoid(np.dot(X,W0))\n",
    "        a2 = nn.sigmoid(np.dot(a1,W1))\n",
    "        return np.rint(a2).astype('int')\n",
    "        \n",
    "            \n",
    "        \n",
    "        \n",
    "    "
   ]
  },
  {
   "cell_type": "code",
   "execution_count": 53,
   "id": "a08f17d4-f534-49f7-a107-23ca46426de5",
   "metadata": {},
   "outputs": [],
   "source": [
    "X_tmp = X[:1000]\n",
    "y_tmp = y[:1000]"
   ]
  },
  {
   "cell_type": "code",
   "execution_count": 54,
   "id": "99f44b7d-e3d5-467c-9e2f-3c2864b4fa7e",
   "metadata": {},
   "outputs": [
    {
     "name": "stderr",
     "output_type": "stream",
     "text": [
      "C:\\Users\\rajat\\AppData\\Local\\Temp\\ipykernel_14364\\1065097179.py:12: RuntimeWarning: overflow encountered in exp\n",
      "  return 1/(1 + np.exp(-1*x))\n"
     ]
    },
    {
     "name": "stdout",
     "output_type": "stream",
     "text": [
      "error loss: 4.323206066668573, w0 = 276.78038576265425, w1 = 4.6099566821382005\n",
      "error loss: 3.8300946139012426, w0 = 274.97879970098444, w1 = 13.544265241296646\n",
      "error loss: 3.83004766300309, w0 = 274.9754188979182, w1 = 14.395641682688247\n",
      "error loss: 3.830031897513964, w0 = 274.973890676901, w1 = 14.895414320705965\n",
      "error loss: 3.8300239849280207, w0 = 274.97296106712963, w1 = 15.250624754818949\n",
      "error loss: 3.8300192252986482, w0 = 274.972316557226, w1 = 15.52645706120214\n",
      "error loss: 3.830016046136291, w0 = 274.9718350282868, w1 = 15.752013311495624\n",
      "error loss: 3.8300137718192455, w0 = 274.9714573601141, w1 = 15.94284069558575\n",
      "error loss: 3.8300120638947566, w0 = 274.9711508598475, w1 = 16.108229563993223\n",
      "error loss: 3.8300107340468603, w0 = 274.97089573262105, w1 = 16.254177410722217\n",
      "error loss: 3.8300096691421994, w0 = 274.970679174092, w1 = 16.38478206039062\n",
      "error loss: 3.830008797108219, w0 = 274.97049247345467, w1 = 16.5029679787953\n",
      "error loss: 3.8300080698506065, w0 = 274.97032946405255, w1 = 16.610895527391566\n",
      "error loss: 3.830007454044985, w0 = 274.97018563725095, w1 = 16.71020599869322\n",
      "error loss: 3.830006925870004, w0 = 274.97005760762454, w1 = 16.802175669216542\n",
      "error loss: 3.830006467844497, w0 = 274.9699427755161, w1 = 16.887816623028165\n",
      "error loss: 3.830006066849218, w0 = 274.9698391060711, w1 = 16.96794499817164\n",
      "error loss: 3.830005712845877, w0 = 274.96974498001816, w1 = 17.04322852477127\n",
      "error loss: 3.8300053980226374, w0 = 274.9696590900865, w1 = 17.114220466092128\n",
      "error loss: 3.8300051162090996, w0 = 274.96958036744303, w1 = 17.18138437827492\n"
     ]
    }
   ],
   "source": [
    "clf = nn(X_tmp, y_tmp).train_nn(batch_size=100, lr=0.001)"
   ]
  },
  {
   "cell_type": "code",
   "execution_count": 116,
   "id": "07c96f46-e966-48a5-90e8-7a1fdf08c47e",
   "metadata": {},
   "outputs": [
    {
     "data": {
      "text/plain": [
       "(3072, 1000)"
      ]
     },
     "execution_count": 116,
     "metadata": {},
     "output_type": "execute_result"
    }
   ],
   "source": [
    "tuple(reversed(list(X_tmp.shape)))"
   ]
  },
  {
   "cell_type": "code",
   "execution_count": 46,
   "id": "d9f44e4d-ad51-47d9-b926-634bafd2fa61",
   "metadata": {},
   "outputs": [
    {
     "ename": "NameError",
     "evalue": "name 'a2' is not defined",
     "output_type": "error",
     "traceback": [
      "\u001b[1;31m---------------------------------------------------------------------------\u001b[0m",
      "\u001b[1;31mNameError\u001b[0m                                 Traceback (most recent call last)",
      "Cell \u001b[1;32mIn[46], line 1\u001b[0m\n\u001b[1;32m----> 1\u001b[0m a2\n",
      "\u001b[1;31mNameError\u001b[0m: name 'a2' is not defined"
     ]
    }
   ],
   "source": []
  },
  {
   "cell_type": "code",
   "execution_count": null,
   "id": "2fb3d17a",
   "metadata": {},
   "outputs": [],
   "source": []
  }
 ],
 "metadata": {
  "kernelspec": {
   "display_name": "Python 3.10.8 ('venv': venv)",
   "language": "python",
   "name": "python3"
  },
  "language_info": {
   "codemirror_mode": {
    "name": "ipython",
    "version": 3
   },
   "file_extension": ".py",
   "mimetype": "text/x-python",
   "name": "python",
   "nbconvert_exporter": "python",
   "pygments_lexer": "ipython3",
   "version": "3.10.8"
  },
  "vscode": {
   "interpreter": {
    "hash": "ca8da99f85b03bdb17205e956dc22a430385f5b85ceb8ae457a4cd5d234cc836"
   }
  }
 },
 "nbformat": 4,
 "nbformat_minor": 5
}
