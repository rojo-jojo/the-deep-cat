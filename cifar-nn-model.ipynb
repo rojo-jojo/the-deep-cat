{
 "cells": [
  {
   "cell_type": "code",
   "execution_count": 1,
   "id": "473ed485-da16-4f91-8b78-55636e44183d",
   "metadata": {},
   "outputs": [
    {
     "name": "stdout",
     "output_type": "stream",
     "text": [
      "x shape is:  (10000, 3072)\n",
      "y shape is:  (10000, 1)\n"
     ]
    }
   ],
   "source": [
    "import numpy as np\n",
    "import os\n",
    "import random\n",
    "\n",
    "def unpickle(file):\n",
    "    import pickle\n",
    "    with open(file, 'rb') as fo:\n",
    "        dict = pickle.load(fo, encoding='bytes')\n",
    "    return dict\n",
    "cifar_data_path = os.path.join('cifar-data','cifar-10-batches-py')\n",
    "path_batch_1 = os.path.join(cifar_data_path, 'data_batch_1')\n",
    "metadata_path = os.path.join(cifar_data_path, 'batches.meta')\n",
    "data = unpickle(path_batch_1)\n",
    "metadata = unpickle(metadata_path)\n",
    "X = np.array(data[b'data'])\n",
    "y = np.array(data[b'labels']).reshape(10000,-1)\n",
    "print(\"x shape is: \",X.shape)\n",
    "print(\"y shape is: \",y.shape)"
   ]
  },
  {
   "cell_type": "code",
   "execution_count": 5,
   "id": "151bb92b-12f3-4d1f-9094-72134c6468ba",
   "metadata": {},
   "outputs": [],
   "source": [
    "class nn:\n",
    "    \"\"\"\n",
    "    a0 -- w0 --> a1 -- w1 --> a2 --> y \n",
    "    \"\"\"\n",
    "    def __init__(self, X, y):\n",
    "        self.X = X\n",
    "        self.y = y\n",
    "    \n",
    "    def sigmoid(x, deriv=False):\n",
    "        if deriv is True:\n",
    "            return x*(1-x)\n",
    "        return 1/(1 + np.exp(-1*x))\n",
    "\n",
    "    def minibatch(self, batch_size = None):\n",
    "        if batch_size is not None:\n",
    "            end = self.X.shape[0]\n",
    "            begin = random.randint(0, end - batch_size - 1)\n",
    "            return self.X[begin: begin + batch_size], self.y[begin: begin + batch_size]\n",
    "        return self.X, self.y\n",
    "\n",
    "    def log_matrix(x):\n",
    "        return np.sum(np.abs(x))\n",
    "    \n",
    "    def train_nn(self, batch_size, lr= 0.001):\n",
    "        \n",
    "        X, y = self.minibatch(batch_size)\n",
    "\n",
    "        W0 = 2*np.random.random(tuple(reversed(list(X.shape)))) - 1\n",
    "        W1 = 2*np.random.random(y.shape) - 1\n",
    "        \n",
    "        for j in range(100000):\n",
    "           a0, y = self.minibatch(batch_size)\n",
    "            a1 = nn.sigmoid(np.dot(a0,W0))\n",
    "            a2 = nn.sigmoid(np.dot(a1,W1))\n",
    "            \n",
    "            a2_err = y - a2\n",
    "            a2_del = a2_err * nn.sigmoid(a2, deriv=True)\n",
    "            \n",
    "            a1_err = a2_del.dot(W1.T)\n",
    "            a1_del = a1_err * nn.sigmoid(a1, deriv=True)\n",
    "            \n",
    "            W1 += (lr * a1.T.dot(a2_del))\n",
    "            W0 += (lr * a0.T.dot(a1_del))\n",
    "            if j % 500 == 0:\n",
    "                print(f\"error loss: {np.mean(np.abs(a2_err))}, w0 = {np.sum(W0)}, w1 = {np.sum(W1)}\")\n",
    "                # print(f\"a1 = {nn.log_matrix(a1)}, a2 = {nn.log_matrix(a2)}\")\n",
    "                # print(f\"errors -> a1_err: {np.sum(a1_err)}, a2_err: {np.sum(a2_err)}\")\n",
    "                # print(f\"sigmoid ' a2 = {nn.log_matrix(nn.sigmoid(a2, deriv=True))}, sigmoid ' a1 = {nn.log_matrix(nn.sigmoid(a1, deriv=True))},\")\n",
    "                # print(f\"deltas -> a1_del: {np.sum(a1_del)}, a2_del: {np.sum(a2_del)}\\n\")\n",
    "            \n",
    "    \n",
    "    def predict(self, X):\n",
    "        W0, W1 = self.W0, self.W1\n",
    "        a1 = nn.sigmoid(np.dot(X,W0))\n",
    "        a2 = nn.sigmoid(np.dot(a1,W1))\n",
    "        return np.rint(a2).astype('int')\n",
    "        \n",
    "            \n",
    "        \n",
    "        \n",
    "    "
   ]
  },
  {
   "cell_type": "code",
   "execution_count": 6,
   "id": "a08f17d4-f534-49f7-a107-23ca46426de5",
   "metadata": {},
   "outputs": [],
   "source": [
    "X_tmp = X[:1000]\n",
    "y_tmp = y[:1000]"
   ]
  },
  {
   "cell_type": "code",
   "execution_count": 8,
   "id": "99f44b7d-e3d5-467c-9e2f-3c2864b4fa7e",
   "metadata": {},
   "outputs": [
    {
     "name": "stderr",
     "output_type": "stream",
     "text": [
      "C:\\Users\\rajat\\AppData\\Local\\Temp\\ipykernel_8928\\4036280331.py:12: RuntimeWarning: overflow encountered in exp\n",
      "  return 1/(1 + np.exp(-1*x))\n"
     ]
    },
    {
     "name": "stdout",
     "output_type": "stream",
     "text": [
      "error loss: 4.302965440584976, w0 = -26.78504580545366, w1 = 27.85658258402146\n",
      "error loss: 4.020000000003347, w0 = -26.7850184930242, w1 = 27.856582777383206\n",
      "error loss: 4.020000000003347, w0 = -26.78499128272803, w1 = 27.856582970732028\n",
      "error loss: 4.020000000003347, w0 = -26.784964173865944, w1 = 27.85658316406796\n",
      "error loss: 4.020000000003347, w0 = -26.784937165670648, w1 = 27.85658335739141\n",
      "error loss: 4.020000000003347, w0 = -26.7849102574267, w1 = 27.856583550702506\n",
      "error loss: 4.020000000003346, w0 = -26.784883448427394, w1 = 27.856583744001362\n",
      "error loss: 4.020000000003346, w0 = -26.784856737987397, w1 = 27.85658393728772\n",
      "error loss: 4.020000000003346, w0 = -26.78483012541117, w1 = 27.856584130561785\n",
      "error loss: 4.020000000003346, w0 = -26.784803610000573, w1 = 27.85658432382388\n",
      "error loss: 4.020000000003346, w0 = -26.78477719107509, w1 = 27.85658451707405\n",
      "error loss: 4.020000000003346, w0 = -26.784750867963076, w1 = 27.856584710312372\n",
      "error loss: 4.020000000003346, w0 = -26.784724640022237, w1 = 27.856584903538604\n",
      "error loss: 4.020000000003346, w0 = -26.78469850657479, w1 = 27.856585096753076\n",
      "error loss: 4.020000000003346, w0 = -26.784672466964516, w1 = 27.856585289956016\n",
      "error loss: 4.020000000003346, w0 = -26.784646520545607, w1 = 27.856585483147427\n",
      "error loss: 4.020000000003345, w0 = -26.784620666682642, w1 = 27.856585676327025\n",
      "error loss: 4.020000000003345, w0 = -26.784594904763747, w1 = 27.85658586949474\n"
     ]
    },
    {
     "ename": "KeyboardInterrupt",
     "evalue": "",
     "output_type": "error",
     "traceback": [
      "\u001b[1;31m---------------------------------------------------------------------------\u001b[0m",
      "\u001b[1;31mKeyboardInterrupt\u001b[0m                         Traceback (most recent call last)",
      "Cell \u001b[1;32mIn[8], line 1\u001b[0m\n\u001b[1;32m----> 1\u001b[0m clf \u001b[39m=\u001b[39m nn(X, y)\u001b[39m.\u001b[39;49mtrain_nn(batch_size\u001b[39m=\u001b[39;49m\u001b[39m100\u001b[39;49m, lr\u001b[39m=\u001b[39;49m\u001b[39m0.01\u001b[39;49m)\n",
      "Cell \u001b[1;32mIn[5], line 33\u001b[0m, in \u001b[0;36mnn.train_nn\u001b[1;34m(self, batch_size, lr)\u001b[0m\n\u001b[0;32m     30\u001b[0m a0, y \u001b[39m=\u001b[39m \u001b[39mself\u001b[39m\u001b[39m.\u001b[39mminibatch(batch_size)\n\u001b[0;32m     31\u001b[0m \u001b[39mfor\u001b[39;00m j \u001b[39min\u001b[39;00m \u001b[39mrange\u001b[39m(\u001b[39m100000\u001b[39m):\n\u001b[1;32m---> 33\u001b[0m     a1 \u001b[39m=\u001b[39m nn\u001b[39m.\u001b[39msigmoid(np\u001b[39m.\u001b[39;49mdot(a0,W0))\n\u001b[0;32m     34\u001b[0m     a2 \u001b[39m=\u001b[39m nn\u001b[39m.\u001b[39msigmoid(np\u001b[39m.\u001b[39mdot(a1,W1))\n\u001b[0;32m     36\u001b[0m     a2_err \u001b[39m=\u001b[39m y \u001b[39m-\u001b[39m a2\n",
      "File \u001b[1;32m<__array_function__ internals>:180\u001b[0m, in \u001b[0;36mdot\u001b[1;34m(*args, **kwargs)\u001b[0m\n",
      "\u001b[1;31mKeyboardInterrupt\u001b[0m: "
     ]
    }
   ],
   "source": [
    "clf = nn(X, y).train_nn(batch_size=100, lr=0.01)"
   ]
  },
  {
   "cell_type": "code",
   "execution_count": 116,
   "id": "07c96f46-e966-48a5-90e8-7a1fdf08c47e",
   "metadata": {},
   "outputs": [
    {
     "data": {
      "text/plain": [
       "(3072, 1000)"
      ]
     },
     "execution_count": 116,
     "metadata": {},
     "output_type": "execute_result"
    }
   ],
   "source": [
    "tuple(reversed(list(X_tmp.shape)))"
   ]
  },
  {
   "cell_type": "code",
   "execution_count": 46,
   "id": "d9f44e4d-ad51-47d9-b926-634bafd2fa61",
   "metadata": {},
   "outputs": [
    {
     "ename": "NameError",
     "evalue": "name 'a2' is not defined",
     "output_type": "error",
     "traceback": [
      "\u001b[1;31m---------------------------------------------------------------------------\u001b[0m",
      "\u001b[1;31mNameError\u001b[0m                                 Traceback (most recent call last)",
      "Cell \u001b[1;32mIn[46], line 1\u001b[0m\n\u001b[1;32m----> 1\u001b[0m a2\n",
      "\u001b[1;31mNameError\u001b[0m: name 'a2' is not defined"
     ]
    }
   ],
   "source": []
  },
  {
   "cell_type": "code",
   "execution_count": null,
   "id": "2fb3d17a",
   "metadata": {},
   "outputs": [],
   "source": []
  }
 ],
 "metadata": {
  "kernelspec": {
   "display_name": "Python 3.10.8 ('venv': venv)",
   "language": "python",
   "name": "python3"
  },
  "language_info": {
   "codemirror_mode": {
    "name": "ipython",
    "version": 3
   },
   "file_extension": ".py",
   "mimetype": "text/x-python",
   "name": "python",
   "nbconvert_exporter": "python",
   "pygments_lexer": "ipython3",
   "version": "3.10.8"
  },
  "vscode": {
   "interpreter": {
    "hash": "ca8da99f85b03bdb17205e956dc22a430385f5b85ceb8ae457a4cd5d234cc836"
   }
  }
 },
 "nbformat": 4,
 "nbformat_minor": 5
}
