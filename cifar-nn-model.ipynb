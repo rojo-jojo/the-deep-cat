{
 "cells": [
  {
   "cell_type": "code",
   "execution_count": 23,
   "id": "473ed485-da16-4f91-8b78-55636e44183d",
   "metadata": {},
   "outputs": [],
   "source": [
    "import numpy as np\n",
    "import os\n",
    "\n",
    "def unpickle(file):\n",
    "    import pickle\n",
    "    with open(file, 'rb') as fo:\n",
    "        dict = pickle.load(fo, encoding='bytes')\n",
    "    return dict\n",
    "cifar_data_path = os.path.join('cifar-data','cifar-10-batches-py')\n",
    "path_batch_1 = os.path.join(cifar_data_path, 'data_batch_1')\n",
    "metadata_path = os.path.join(cifar_data_path, 'batches.meta')\n",
    "data = unpickle(path_batch_1)\n",
    "metadata = unpickle(metadata_path)\n",
    "X = np.array(data[b'data'])\n",
    "y = np.array(data[b'labels']).reshape(10000,-1)\n",
    "print(\"x shape is: \",X.shape)\n",
    "print(\"y shape is: \",y.shape)"
   ]
  },
  {
   "cell_type": "code",
   "execution_count": 120,
   "id": "151bb92b-12f3-4d1f-9094-72134c6468ba",
   "metadata": {},
   "outputs": [],
   "source": [
    "class nn:\n",
    "    \"\"\"\n",
    "    a0 -- w0 --> a1 -- w1 --> a2 --> y \n",
    "    \"\"\"\n",
    "    def __init__(self, X, y):\n",
    "        self.X = X\n",
    "        self.y = y\n",
    "    \n",
    "    def sigmoid(x, deriv=False):\n",
    "        if deriv is True:\n",
    "            return x*(1-x)\n",
    "        return 1/(1 + np.exp(-1*x))\n",
    "\n",
    "    def train_nn(self):\n",
    "        \n",
    "        W0 = np.random.random(tuple(reversed(list(self.X.shape))))\n",
    "        W1 = np.random.random(self.y.shape)\n",
    "        \n",
    "        for j in range(10000):\n",
    "            a0 = self.X\n",
    "            y = self.y\n",
    "            a1 = nn.sigmoid(np.dot(a0,W0))\n",
    "            a2 = nn.sigmoid(np.dot(a1,W1))\n",
    "            \n",
    "            a2_err = y - a2\n",
    "            if j % 500 == 0:\n",
    "                print(f\"error loss: {np.mean(np.abs(a2_err))}\")\n",
    "            a2_del = a2_err * nn.sigmoid(a2, deriv=True)\n",
    "            \n",
    "            a1_err = a2_del.dot(W1.T)\n",
    "            a1_del = a1_err * nn.sigmoid(a1, deriv=True)\n",
    "            \n",
    "            W1 += a1.T.dot(a2_del)\n",
    "            W0 += a0.T.dot(a1_del)\n",
    "            \n",
    "    \n",
    "    def predict(self, X):\n",
    "        W0, W1 = self.W0, self.W1\n",
    "        a1 = nn.sigmoid(np.dot(X,W0))\n",
    "        a2 = nn.sigmoid(np.dot(a1,W1))\n",
    "        return np.rint(a2).astype('int')\n",
    "        \n",
    "            \n",
    "        \n",
    "        \n",
    "    "
   ]
  },
  {
   "cell_type": "code",
   "execution_count": 121,
   "id": "a08f17d4-f534-49f7-a107-23ca46426de5",
   "metadata": {},
   "outputs": [],
   "source": [
    "X_tmp = X[:1000]\n",
    "y_tmp = y[:1000]"
   ]
  },
  {
   "cell_type": "code",
   "execution_count": 122,
   "id": "99f44b7d-e3d5-467c-9e2f-3c2864b4fa7e",
   "metadata": {},
   "outputs": [
    {
     "name": "stdout",
     "output_type": "stream",
     "text": [
      "error loss: 3.686\n",
      "error loss: 3.686\n",
      "error loss: 3.686\n",
      "error loss: 3.686\n",
      "error loss: 3.686\n",
      "error loss: 3.686\n",
      "error loss: 3.686\n",
      "error loss: 3.686\n"
     ]
    },
    {
     "ename": "KeyboardInterrupt",
     "evalue": "",
     "output_type": "error",
     "traceback": [
      "\u001b[0;31m---------------------------------------------------------------------------\u001b[0m",
      "\u001b[0;31mKeyboardInterrupt\u001b[0m                         Traceback (most recent call last)",
      "Cell \u001b[0;32mIn [122], line 1\u001b[0m\n\u001b[0;32m----> 1\u001b[0m clf \u001b[38;5;241m=\u001b[39m \u001b[43mnn\u001b[49m\u001b[43m(\u001b[49m\u001b[43mX_tmp\u001b[49m\u001b[43m,\u001b[49m\u001b[43m \u001b[49m\u001b[43my_tmp\u001b[49m\u001b[43m)\u001b[49m\u001b[38;5;241;43m.\u001b[39;49m\u001b[43mtrain_nn\u001b[49m\u001b[43m(\u001b[49m\u001b[43m)\u001b[49m\n",
      "Cell \u001b[0;32mIn [120], line 25\u001b[0m, in \u001b[0;36mnn.train_nn\u001b[0;34m(self)\u001b[0m\n\u001b[1;32m     23\u001b[0m a0 \u001b[38;5;241m=\u001b[39m \u001b[38;5;28mself\u001b[39m\u001b[38;5;241m.\u001b[39mX\n\u001b[1;32m     24\u001b[0m y \u001b[38;5;241m=\u001b[39m \u001b[38;5;28mself\u001b[39m\u001b[38;5;241m.\u001b[39my\n\u001b[0;32m---> 25\u001b[0m a1 \u001b[38;5;241m=\u001b[39m nn\u001b[38;5;241m.\u001b[39msigmoid(\u001b[43mnp\u001b[49m\u001b[38;5;241;43m.\u001b[39;49m\u001b[43mdot\u001b[49m\u001b[43m(\u001b[49m\u001b[43ma0\u001b[49m\u001b[43m,\u001b[49m\u001b[43mW0\u001b[49m\u001b[43m)\u001b[49m)\n\u001b[1;32m     26\u001b[0m a2 \u001b[38;5;241m=\u001b[39m nn\u001b[38;5;241m.\u001b[39msigmoid(np\u001b[38;5;241m.\u001b[39mdot(a1,W1))\n\u001b[1;32m     28\u001b[0m a2_err \u001b[38;5;241m=\u001b[39m y \u001b[38;5;241m-\u001b[39m a2\n",
      "File \u001b[0;32m<__array_function__ internals>:180\u001b[0m, in \u001b[0;36mdot\u001b[0;34m(*args, **kwargs)\u001b[0m\n",
      "\u001b[0;31mKeyboardInterrupt\u001b[0m: "
     ]
    }
   ],
   "source": [
    "clf = nn(X_tmp, y_tmp).train_nn()"
   ]
  },
  {
   "cell_type": "code",
   "execution_count": 116,
   "id": "07c96f46-e966-48a5-90e8-7a1fdf08c47e",
   "metadata": {},
   "outputs": [
    {
     "data": {
      "text/plain": [
       "(3072, 1000)"
      ]
     },
     "execution_count": 116,
     "metadata": {},
     "output_type": "execute_result"
    }
   ],
   "source": [
    "tuple(reversed(list(X_tmp.shape)))"
   ]
  },
  {
   "cell_type": "code",
   "execution_count": null,
   "id": "d9f44e4d-ad51-47d9-b926-634bafd2fa61",
   "metadata": {},
   "outputs": [],
   "source": []
  }
 ],
 "metadata": {
  "kernelspec": {
   "display_name": "Python 3.10.8 64-bit (microsoft store)",
   "language": "python",
   "name": "python3"
  },
  "language_info": {
   "codemirror_mode": {
    "name": "ipython",
    "version": 3
   },
   "file_extension": ".py",
   "mimetype": "text/x-python",
   "name": "python",
   "nbconvert_exporter": "python",
   "pygments_lexer": "ipython3",
   "version": "3.10.8"
  },
  "vscode": {
   "interpreter": {
    "hash": "c663117a3a381aa5c816d783830e80f3dbba87e53d59780e0b516fc70f63b042"
   }
  }
 },
 "nbformat": 4,
 "nbformat_minor": 5
}
