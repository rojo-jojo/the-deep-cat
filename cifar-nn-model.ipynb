{
 "cells": [
  {
   "cell_type": "code",
   "execution_count": 1,
   "id": "473ed485-da16-4f91-8b78-55636e44183d",
   "metadata": {},
   "outputs": [
    {
     "name": "stdout",
     "output_type": "stream",
     "text": [
      "x shape is:  (10000, 3072)\n",
      "y shape is:  (10000, 1)\n"
     ]
    }
   ],
   "source": [
    "import numpy as np\n",
    "import os\n",
    "\n",
    "def unpickle(file):\n",
    "    import pickle\n",
    "    with open(file, 'rb') as fo:\n",
    "        dict = pickle.load(fo, encoding='bytes')\n",
    "    return dict\n",
    "cifar_data_path = os.path.join('cifar-data','cifar-10-batches-py')\n",
    "path_batch_1 = os.path.join(cifar_data_path, 'data_batch_1')\n",
    "metadata_path = os.path.join(cifar_data_path, 'batches.meta')\n",
    "data = unpickle(path_batch_1)\n",
    "metadata = unpickle(metadata_path)\n",
    "X = np.array(data[b'data'])\n",
    "y = np.array(data[b'labels']).reshape(10000,-1)\n",
    "print(\"x shape is: \",X.shape)\n",
    "print(\"y shape is: \",y.shape)"
   ]
  },
  {
   "cell_type": "code",
   "execution_count": 8,
   "id": "151bb92b-12f3-4d1f-9094-72134c6468ba",
   "metadata": {},
   "outputs": [],
   "source": [
    "class nn:\n",
    "    \"\"\"\n",
    "    a0 -- w0 --> a1 -- w1 --> a2 --> y \n",
    "    \"\"\"\n",
    "    def __init__(self, X, y):\n",
    "        self.X = X\n",
    "        self.y = y\n",
    "    \n",
    "    def sigmoid(x, deriv=False):\n",
    "        if deriv is True:\n",
    "            return x*(1-x)\n",
    "        return 1/(1 + np.exp(-1*x))\n",
    "\n",
    "    def train_nn(self):\n",
    "        \n",
    "        W0 = np.random.random(tuple(reversed(list(self.X.shape))))\n",
    "        W1 = np.random.random(self.y.shape)\n",
    "        \n",
    "        for j in range(10000):\n",
    "            a0 = self.X\n",
    "            y = self.y\n",
    "            a1 = nn.sigmoid(np.dot(a0,W0))\n",
    "            a2 = nn.sigmoid(np.dot(a1,W1))\n",
    "            \n",
    "            a2_err = y - a2\n",
    "            if j % 500 == 0:\n",
    "                print(f\"error loss: {np.mean(np.abs(a2_err))}, w0 = {np.sum(W0)}, w1 = {np.sum(W1)}\")\n",
    "            a2_del = a2_err * nn.sigmoid(a2, deriv=True)\n",
    "            \n",
    "            a1_err = a2_del.dot(W1.T)\n",
    "            a1_del = a1_err * nn.sigmoid(a1, deriv=True)\n",
    "            \n",
    "            W1 += a1.T.dot(a2_del)\n",
    "            W0 += a0.T.dot(a1_del)\n",
    "            \n",
    "    \n",
    "    def predict(self, X):\n",
    "        W0, W1 = self.W0, self.W1\n",
    "        a1 = nn.sigmoid(np.dot(X,W0))\n",
    "        a2 = nn.sigmoid(np.dot(a1,W1))\n",
    "        return np.rint(a2).astype('int')\n",
    "        \n",
    "            \n",
    "        \n",
    "        \n",
    "    "
   ]
  },
  {
   "cell_type": "code",
   "execution_count": 9,
   "id": "a08f17d4-f534-49f7-a107-23ca46426de5",
   "metadata": {},
   "outputs": [],
   "source": [
    "X_tmp = X[:200]\n",
    "y_tmp = y[:200]"
   ]
  },
  {
   "cell_type": "code",
   "execution_count": 10,
   "id": "99f44b7d-e3d5-467c-9e2f-3c2864b4fa7e",
   "metadata": {},
   "outputs": [
    {
     "name": "stdout",
     "output_type": "stream",
     "text": [
      "error loss: 3.58, w0 = 307272.54082331876, w1 = 96.87188780006893\n",
      "error loss: 3.58, w0 = 307272.54082331876, w1 = 96.87188780006893\n",
      "error loss: 3.58, w0 = 307272.54082331876, w1 = 96.87188780006893\n",
      "error loss: 3.58, w0 = 307272.54082331876, w1 = 96.87188780006893\n",
      "error loss: 3.58, w0 = 307272.54082331876, w1 = 96.87188780006893\n",
      "error loss: 3.58, w0 = 307272.54082331876, w1 = 96.87188780006893\n",
      "error loss: 3.58, w0 = 307272.54082331876, w1 = 96.87188780006893\n",
      "error loss: 3.58, w0 = 307272.54082331876, w1 = 96.87188780006893\n",
      "error loss: 3.58, w0 = 307272.54082331876, w1 = 96.87188780006893\n",
      "error loss: 3.58, w0 = 307272.54082331876, w1 = 96.87188780006893\n",
      "error loss: 3.58, w0 = 307272.54082331876, w1 = 96.87188780006893\n",
      "error loss: 3.58, w0 = 307272.54082331876, w1 = 96.87188780006893\n",
      "error loss: 3.58, w0 = 307272.54082331876, w1 = 96.87188780006893\n",
      "error loss: 3.58, w0 = 307272.54082331876, w1 = 96.87188780006893\n",
      "error loss: 3.58, w0 = 307272.54082331876, w1 = 96.87188780006893\n",
      "error loss: 3.58, w0 = 307272.54082331876, w1 = 96.87188780006893\n",
      "error loss: 3.58, w0 = 307272.54082331876, w1 = 96.87188780006893\n",
      "error loss: 3.58, w0 = 307272.54082331876, w1 = 96.87188780006893\n",
      "error loss: 3.58, w0 = 307272.54082331876, w1 = 96.87188780006893\n",
      "error loss: 3.58, w0 = 307272.54082331876, w1 = 96.87188780006893\n"
     ]
    }
   ],
   "source": [
    "clf = nn(X_tmp, y_tmp).train_nn()"
   ]
  },
  {
   "cell_type": "code",
   "execution_count": 116,
   "id": "07c96f46-e966-48a5-90e8-7a1fdf08c47e",
   "metadata": {},
   "outputs": [
    {
     "data": {
      "text/plain": [
       "(3072, 1000)"
      ]
     },
     "execution_count": 116,
     "metadata": {},
     "output_type": "execute_result"
    }
   ],
   "source": [
    "tuple(reversed(list(X_tmp.shape)))"
   ]
  },
  {
   "cell_type": "code",
   "execution_count": null,
   "id": "d9f44e4d-ad51-47d9-b926-634bafd2fa61",
   "metadata": {},
   "outputs": [],
   "source": []
  }
 ],
 "metadata": {
  "kernelspec": {
   "display_name": "Python 3.10.8 ('venv': venv)",
   "language": "python",
   "name": "python3"
  },
  "language_info": {
   "codemirror_mode": {
    "name": "ipython",
    "version": 3
   },
   "file_extension": ".py",
   "mimetype": "text/x-python",
   "name": "python",
   "nbconvert_exporter": "python",
   "pygments_lexer": "ipython3",
   "version": "3.10.8"
  },
  "vscode": {
   "interpreter": {
    "hash": "ca8da99f85b03bdb17205e956dc22a430385f5b85ceb8ae457a4cd5d234cc836"
   }
  }
 },
 "nbformat": 4,
 "nbformat_minor": 5
}
