{
 "cells": [
  {
   "cell_type": "code",
   "execution_count": 1,
   "id": "cff6932a-4fd2-4b5a-9504-3ae5ee827c4e",
   "metadata": {},
   "outputs": [],
   "source": [
    "import numpy as np\n",
    "from typing import List\n",
    "import logging\n",
    "logging.getLogger().setLevel(logging.INFO)"
   ]
  },
  {
   "cell_type": "code",
   "execution_count": 2,
   "id": "c6cf0692-05db-4e47-94ed-dfffa341ad3f",
   "metadata": {},
   "outputs": [],
   "source": [
    "def get_data(file_path: str):\n",
    "    x = []\n",
    "    y = []\n",
    "    with open(file_path, 'r') as f:\n",
    "        dataset = f.read().splitlines()\n",
    "    m = len(dataset)\n",
    "    for val in dataset:\n",
    "        record = [float(i) for i in val.split(', ')]\n",
    "        y.append(record[-1])\n",
    "        x.append(record[0:-1])\n",
    "    return np.array(x), np.array(y)"
   ]
  },
  {
   "cell_type": "code",
   "execution_count": 3,
   "id": "fc8904ff-2b7f-4fec-8987-77be7491e7b5",
   "metadata": {},
   "outputs": [],
   "source": [
    "fpath = 'dataset_inp.txt'\n",
    "x, y = get_data(fpath)"
   ]
  },
  {
   "cell_type": "code",
   "execution_count": 4,
   "id": "23178863-6813-4f2b-afd5-c59a6308be88",
   "metadata": {},
   "outputs": [
    {
     "data": {
      "text/plain": [
       "(1000, 2)"
      ]
     },
     "execution_count": 4,
     "metadata": {},
     "output_type": "execute_result"
    }
   ],
   "source": [
    "x.shape"
   ]
  },
  {
   "cell_type": "code",
   "execution_count": 5,
   "id": "d9dbc62b-440d-4088-b9bc-67cf702808fb",
   "metadata": {},
   "outputs": [
    {
     "data": {
      "text/plain": [
       "(1000,)"
      ]
     },
     "execution_count": 5,
     "metadata": {},
     "output_type": "execute_result"
    }
   ],
   "source": [
    "y.shape"
   ]
  },
  {
   "cell_type": "code",
   "execution_count": 20,
   "id": "b30ee11f-a461-4371-aabe-ba47d29d183a",
   "metadata": {},
   "outputs": [],
   "source": [
    "xx = np.random.rand(3,2)"
   ]
  },
  {
   "cell_type": "code",
   "execution_count": 22,
   "id": "0ca207b3-9740-450f-8d96-fe0b544ded84",
   "metadata": {},
   "outputs": [
    {
     "data": {
      "text/plain": [
       "2.569768227058674"
      ]
     },
     "execution_count": 22,
     "metadata": {},
     "output_type": "execute_result"
    }
   ],
   "source": [
    "xx.sum()"
   ]
  },
  {
   "cell_type": "code",
   "execution_count": 24,
   "id": "8e21bdeb-36ad-436c-ab55-54f116d9bb9d",
   "metadata": {},
   "outputs": [],
   "source": [
    "def sigmoid(x):\n",
    "    sig = 1 / (1 + np.exp(-x))\n",
    "    return sig\n",
    "\n",
    "def relu_func(x):\n",
    "    return np.where(x < 0, 0, x)\n",
    "\n",
    "def layer(input_layer, n, func='sigmoid'):\n",
    "    print(\"Input layer dim: \",input_layer.shape)\n",
    "    print(\"Current layer width: \", n)\n",
    "    prev_layer_elements = input_layer.shape[0]\n",
    "    W = np.zeros((prev_layer_elements, n))\n",
    "    b = np.zeros((n,1))\n",
    "    z = np.matmul(W.T, input_layer) + b\n",
    "    if func == 'relu':\n",
    "        a = relu_func(z)\n",
    "    else:\n",
    "        a = sigmoid(z)\n",
    "    return a\n",
    "    \n",
    "def cost_value(a, y):\n",
    "    assert a.shape == y.shape, \"Shape of actual and predicted is not equal\"\n",
    "    cost = ((a - y) ** 2).sum()\n",
    "    return cost\n",
    "    \n",
    "    \n",
    "def backproping():\n",
    "    \n",
    "    return True\n",
    "    \n",
    "\n",
    "def forward_pass(x, y):\n",
    "    layer_1 = layer(x, 10,'sigmoid')\n",
    "    layer_2 = layer(layer_1,10)\n",
    "    return layer_2"
   ]
  },
  {
   "cell_type": "code",
   "execution_count": 17,
   "id": "74b36a99-d0c7-4a87-84f5-e534123102a9",
   "metadata": {},
   "outputs": [],
   "source": [
    "aa = np.zeros((1000,10))"
   ]
  },
  {
   "cell_type": "code",
   "execution_count": 25,
   "id": "d1968ceb-b135-4fb3-a2b0-8855369ef74d",
   "metadata": {},
   "outputs": [
    {
     "name": "stdout",
     "output_type": "stream",
     "text": [
      "Input layer dim:  (1000, 2)\n",
      "Current layer width:  10\n",
      "Input layer dim:  (10, 2)\n",
      "Current layer width:  10\n"
     ]
    }
   ],
   "source": [
    "a = forward_pass(x,y)"
   ]
  },
  {
   "cell_type": "code",
   "execution_count": 26,
   "id": "198a31af-3e6b-4141-99b0-c5ad3dae9a97",
   "metadata": {},
   "outputs": [
    {
     "data": {
      "text/plain": [
       "array([[0.5, 0.5],\n",
       "       [0.5, 0.5],\n",
       "       [0.5, 0.5],\n",
       "       [0.5, 0.5],\n",
       "       [0.5, 0.5],\n",
       "       [0.5, 0.5],\n",
       "       [0.5, 0.5],\n",
       "       [0.5, 0.5],\n",
       "       [0.5, 0.5],\n",
       "       [0.5, 0.5]])"
      ]
     },
     "execution_count": 26,
     "metadata": {},
     "output_type": "execute_result"
    }
   ],
   "source": [
    "a"
   ]
  },
  {
   "cell_type": "code",
   "execution_count": null,
   "id": "711068c4-994c-4dbe-947e-4d839b76c585",
   "metadata": {},
   "outputs": [],
   "source": []
  }
 ],
 "metadata": {
  "kernelspec": {
   "display_name": "Python 3 (ipykernel)",
   "language": "python",
   "name": "python3"
  },
  "language_info": {
   "codemirror_mode": {
    "name": "ipython",
    "version": 3
   },
   "file_extension": ".py",
   "mimetype": "text/x-python",
   "name": "python",
   "nbconvert_exporter": "python",
   "pygments_lexer": "ipython3",
   "version": "3.8.10"
  }
 },
 "nbformat": 4,
 "nbformat_minor": 5
}
