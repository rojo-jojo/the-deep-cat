{
 "cells": [
  {
   "cell_type": "code",
   "execution_count": 1,
   "id": "d20330e5-7567-4830-a8db-4b487e40d9dd",
   "metadata": {},
   "outputs": [],
   "source": [
    "import numpy as np"
   ]
  },
  {
   "cell_type": "code",
   "execution_count": 30,
   "id": "bdba6e96-4228-4e3f-9034-4aafc4741511",
   "metadata": {},
   "outputs": [],
   "source": [
    "# quick implementation of a two layer nn\n",
    "X = np.array([ [0,0,1],[0,1,1],[1,0,1],[1,1,1] ])\n",
    "y = np.array( [[0,1,1,0]] ).T\n"
   ]
  },
  {
   "cell_type": "code",
   "execution_count": 51,
   "id": "12969498-3ead-4c31-9620-d000f829c85d",
   "metadata": {},
   "outputs": [
    {
     "data": {
      "text/plain": [
       "(4, 3)"
      ]
     },
     "execution_count": 51,
     "metadata": {},
     "output_type": "execute_result"
    }
   ],
   "source": [
    "X.shape"
   ]
  },
  {
   "cell_type": "code",
   "execution_count": 49,
   "id": "52f4f14d-9fbe-4593-bed9-a9c606910098",
   "metadata": {},
   "outputs": [
    {
     "name": "stdout",
     "output_type": "stream",
     "text": [
      "Error: 0.500877203747751\n",
      "Error: 0.0045775610122395435\n"
     ]
    }
   ],
   "source": [
    "W0 = 2*np.random.random(tuple([x for x in reversed(X.shape)])) - 1\n",
    "W1 = 2*np.random.random((4,1)) - 1\n",
    "\n",
    "\n",
    "def sigmoid(x, deriv=False):\n",
    "    if deriv:\n",
    "        return x*(1-x)\n",
    "    return 1/(1 + np.exp(-x))\n",
    "np.random.seed(42)\n",
    "for j in range(60000):\n",
    "    a0 = X\n",
    "    a1 = sigmoid(np.dot(a0,W0))\n",
    "    a2 = sigmoid(np.dot(a1,W1))\n",
    "    a2_error = y - a2\n",
    "    if (j % 50000 == 0):\n",
    "        print(f\"Error: {np.mean(np.abs(a2_error))}\")\n",
    "    # in what direction is the target value?\n",
    "    # were we really sure, if so then don't change the value too much\n",
    "    a2_delta = a2_error * sigmoid(a2,deriv=True)\n",
    "    # how much did each a1 value contribute to a2 error?\n",
    "    # according to the weights\n",
    "    a1_error = a2_delta.dot(W1.T)\n",
    "    # in what direction is the target a1?\n",
    "    a1_delta = a1_error * sigmoid(a1, deriv=True)\n",
    "    W1 += a1.T.dot(a2_delta)\n",
    "    W0 += a0.T.dot(a1_delta)"
   ]
  },
  {
   "cell_type": "code",
   "execution_count": 50,
   "id": "5fd78e91-65cf-4a05-9679-8a6db172f122",
   "metadata": {},
   "outputs": [
    {
     "data": {
      "text/plain": [
       "array([[0],\n",
       "       [1],\n",
       "       [1],\n",
       "       [0]])"
      ]
     },
     "execution_count": 50,
     "metadata": {},
     "output_type": "execute_result"
    }
   ],
   "source": [
    "np.rint(a2).astype('int')"
   ]
  },
  {
   "cell_type": "code",
   "execution_count": null,
   "id": "3e714b98-41ea-4221-bca4-ba370c3cc459",
   "metadata": {},
   "outputs": [],
   "source": [
    "(y - l2)*(l2 - l2^2)\n",
    "y*l2 - y*l2^2 - l2^2 + l2^3\n",
    "y(l2 - l2^2) - l2"
   ]
  }
 ],
 "metadata": {
  "kernelspec": {
   "display_name": "Python 3 (ipykernel)",
   "language": "python",
   "name": "python3"
  },
  "language_info": {
   "codemirror_mode": {
    "name": "ipython",
    "version": 3
   },
   "file_extension": ".py",
   "mimetype": "text/x-python",
   "name": "python",
   "nbconvert_exporter": "python",
   "pygments_lexer": "ipython3",
   "version": "3.8.10"
  }
 },
 "nbformat": 4,
 "nbformat_minor": 5
}
