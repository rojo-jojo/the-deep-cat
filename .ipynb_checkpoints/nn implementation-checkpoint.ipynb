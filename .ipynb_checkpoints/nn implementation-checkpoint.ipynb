{
 "cells": [
  {
   "cell_type": "code",
   "execution_count": 7,
   "id": "cff6932a-4fd2-4b5a-9504-3ae5ee827c4e",
   "metadata": {},
   "outputs": [],
   "source": [
    "import numpy as np\n",
    "from typing import List\n",
    "import logging\n",
    "logging.lev"
   ]
  },
  {
   "cell_type": "code",
   "execution_count": 2,
   "id": "c6cf0692-05db-4e47-94ed-dfffa341ad3f",
   "metadata": {},
   "outputs": [],
   "source": [
    "def get_data(file_path: str):\n",
    "    x = []\n",
    "    y = []\n",
    "    with open(file_path, 'r') as f:\n",
    "        dataset = f.read().splitlines()\n",
    "    m = len(dataset)\n",
    "    for val in dataset:\n",
    "        record = [float(i) for i in val.split(', ')]\n",
    "        y.append(record[-1])\n",
    "        x.append(record[0:-1])\n",
    "    return np.array(x), np.array(y)"
   ]
  },
  {
   "cell_type": "code",
   "execution_count": 3,
   "id": "fc8904ff-2b7f-4fec-8987-77be7491e7b5",
   "metadata": {},
   "outputs": [],
   "source": [
    "fpath = 'dataset_inp.txt'\n",
    "x, y = get_data(fpath)"
   ]
  },
  {
   "cell_type": "code",
   "execution_count": 4,
   "id": "23178863-6813-4f2b-afd5-c59a6308be88",
   "metadata": {},
   "outputs": [
    {
     "data": {
      "text/plain": [
       "(1000, 2)"
      ]
     },
     "execution_count": 4,
     "metadata": {},
     "output_type": "execute_result"
    }
   ],
   "source": [
    "x.shape"
   ]
  },
  {
   "cell_type": "code",
   "execution_count": 5,
   "id": "d9dbc62b-440d-4088-b9bc-67cf702808fb",
   "metadata": {},
   "outputs": [
    {
     "data": {
      "text/plain": [
       "(1000,)"
      ]
     },
     "execution_count": 5,
     "metadata": {},
     "output_type": "execute_result"
    }
   ],
   "source": [
    "y.shape"
   ]
  },
  {
   "cell_type": "code",
   "execution_count": 24,
   "id": "8e21bdeb-36ad-436c-ab55-54f116d9bb9d",
   "metadata": {},
   "outputs": [],
   "source": [
    "def sigmoid(x):\n",
    "    sig = 1 / (1 + np.exp(-x))\n",
    "    return sig\n",
    "\n",
    "def relu_func(x):\n",
    "    return np.where(x < 0, 0, x)\n",
    "\n",
    "def layer(input_layer, n, func='sigmoid'):\n",
    "    prev_layer_elements = input_layer.shape[0]\n",
    "    W = np.zeros(prev_layer_elements, n)\n",
    "    b = np.zeros(n,1)\n",
    "    z = np.matmul(W.T, input_layer) + b\n",
    "    if func == 'relu':\n",
    "        a = relu_func(z)\n",
    "    else:\n",
    "        a = sigmoid(z)\n",
    "    return a\n",
    "    \n",
    "    \n",
    "\n",
    "def forward_pass(x, y):\n",
    "    layer_1 = layer(x, 10,'sigmoid')\n",
    "    return layer_1"
   ]
  },
  {
   "cell_type": "code",
   "execution_count": 25,
   "id": "d1968ceb-b135-4fb3-a2b0-8855369ef74d",
   "metadata": {},
   "outputs": [
    {
     "ename": "TypeError",
     "evalue": "Cannot interpret '10' as a data type",
     "output_type": "error",
     "traceback": [
      "\u001b[0;31m---------------------------------------------------------------------------\u001b[0m",
      "\u001b[0;31mTypeError\u001b[0m                                 Traceback (most recent call last)",
      "Cell \u001b[0;32mIn [25], line 1\u001b[0m\n\u001b[0;32m----> 1\u001b[0m a \u001b[38;5;241m=\u001b[39m \u001b[43mforward_pass\u001b[49m\u001b[43m(\u001b[49m\u001b[43mx\u001b[49m\u001b[43m,\u001b[49m\u001b[43my\u001b[49m\u001b[43m)\u001b[49m\n",
      "Cell \u001b[0;32mIn [24], line 22\u001b[0m, in \u001b[0;36mforward_pass\u001b[0;34m(x, y)\u001b[0m\n\u001b[1;32m     21\u001b[0m \u001b[38;5;28;01mdef\u001b[39;00m \u001b[38;5;21mforward_pass\u001b[39m(x, y):\n\u001b[0;32m---> 22\u001b[0m     layer_1 \u001b[38;5;241m=\u001b[39m \u001b[43mlayer\u001b[49m\u001b[43m(\u001b[49m\u001b[43mx\u001b[49m\u001b[43m,\u001b[49m\u001b[43m \u001b[49m\u001b[38;5;241;43m10\u001b[39;49m\u001b[43m,\u001b[49m\u001b[38;5;124;43m'\u001b[39;49m\u001b[38;5;124;43msigmoid\u001b[39;49m\u001b[38;5;124;43m'\u001b[39;49m\u001b[43m)\u001b[49m\n\u001b[1;32m     23\u001b[0m     \u001b[38;5;28;01mreturn\u001b[39;00m layer_1\n",
      "Cell \u001b[0;32mIn [24], line 10\u001b[0m, in \u001b[0;36mlayer\u001b[0;34m(input_layer, n, func)\u001b[0m\n\u001b[1;32m      8\u001b[0m \u001b[38;5;28;01mdef\u001b[39;00m \u001b[38;5;21mlayer\u001b[39m(input_layer, n, func\u001b[38;5;241m=\u001b[39m\u001b[38;5;124m'\u001b[39m\u001b[38;5;124msigmoid\u001b[39m\u001b[38;5;124m'\u001b[39m):\n\u001b[1;32m      9\u001b[0m     prev_layer_elements \u001b[38;5;241m=\u001b[39m input_layer\u001b[38;5;241m.\u001b[39mshape[\u001b[38;5;241m0\u001b[39m]\n\u001b[0;32m---> 10\u001b[0m     W \u001b[38;5;241m=\u001b[39m \u001b[43mnp\u001b[49m\u001b[38;5;241;43m.\u001b[39;49m\u001b[43mzeros\u001b[49m\u001b[43m(\u001b[49m\u001b[43mprev_layer_elements\u001b[49m\u001b[43m,\u001b[49m\u001b[43m \u001b[49m\u001b[43mn\u001b[49m\u001b[43m)\u001b[49m\n\u001b[1;32m     11\u001b[0m     b \u001b[38;5;241m=\u001b[39m np\u001b[38;5;241m.\u001b[39mzeros(n,\u001b[38;5;241m1\u001b[39m)\n\u001b[1;32m     12\u001b[0m     z \u001b[38;5;241m=\u001b[39m np\u001b[38;5;241m.\u001b[39mmatmul(W\u001b[38;5;241m.\u001b[39mT, input_layer) \u001b[38;5;241m+\u001b[39m b\n",
      "\u001b[0;31mTypeError\u001b[0m: Cannot interpret '10' as a data type"
     ]
    }
   ],
   "source": [
    "a = forward_pass(x,y)"
   ]
  },
  {
   "cell_type": "code",
   "execution_count": 30,
   "id": "198a31af-3e6b-4141-99b0-c5ad3dae9a97",
   "metadata": {},
   "outputs": [
    {
     "data": {
      "text/plain": [
       "array([[0.5, 0.5],\n",
       "       [0.5, 0.5]])"
      ]
     },
     "execution_count": 30,
     "metadata": {},
     "output_type": "execute_result"
    }
   ],
   "source": [
    "a"
   ]
  },
  {
   "cell_type": "code",
   "execution_count": null,
   "id": "711068c4-994c-4dbe-947e-4d839b76c585",
   "metadata": {},
   "outputs": [],
   "source": []
  }
 ],
 "metadata": {
  "kernelspec": {
   "display_name": "Python 3 (ipykernel)",
   "language": "python",
   "name": "python3"
  },
  "language_info": {
   "codemirror_mode": {
    "name": "ipython",
    "version": 3
   },
   "file_extension": ".py",
   "mimetype": "text/x-python",
   "name": "python",
   "nbconvert_exporter": "python",
   "pygments_lexer": "ipython3",
   "version": "3.8.10"
  }
 },
 "nbformat": 4,
 "nbformat_minor": 5
}
