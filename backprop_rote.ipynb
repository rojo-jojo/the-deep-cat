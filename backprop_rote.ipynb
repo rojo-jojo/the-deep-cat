{
 "cells": [
  {
   "cell_type": "code",
   "execution_count": 2,
   "id": "2dc043b7-761c-4025-8ed9-439fad883737",
   "metadata": {},
   "outputs": [],
   "source": [
    "import numpy as np"
   ]
  },
  {
   "cell_type": "code",
   "execution_count": 2,
   "id": "e7aaaa20-9775-470a-8d80-42da16611c7b",
   "metadata": {},
   "outputs": [],
   "source": [
    "X = np.array([[0,0,1],[0,1,1],[1,0,1],[1,1,1]])\n",
    "y = np.array([[0,1,1,0]]).T"
   ]
  },
  {
   "cell_type": "code",
   "execution_count": 4,
   "id": "9fea3cab-657d-4f9d-a78f-ef56583fb7ec",
   "metadata": {},
   "outputs": [
    {
     "data": {
      "text/plain": [
       "(4, 1)"
      ]
     },
     "execution_count": 4,
     "metadata": {},
     "output_type": "execute_result"
    }
   ],
   "source": [
    "y.shape"
   ]
  },
  {
   "cell_type": "code",
   "execution_count": null,
   "id": "c6df2e66-039b-4677-95eb-00dc918c8c81",
   "metadata": {},
   "outputs": [],
   "source": [
    "# 1 iter\n",
    "W0 = np.random.random((3,4)) - 1\n",
    "W1 = np.radom.random((4,1)) - 1\n",
    "def sigmoid(x, deriv=False):\n",
    "    if deriv is True:\n",
    "        return x*(1-x)\n",
    "    return 1/(1 + np.exp(-x))\n",
    "\n",
    "for j in range(10000):\n",
    "    # forward pass steps\n",
    "    a0 = X\n",
    "    a1 = sigmoid(np.dot(a0,W0)) # 4x3 * 3x4 = 4x4 \n",
    "    a2 = sigmoid(np.dot(a1,W1)) # 4x4 * 4X1 = 4x1 i.e. same dim at y\n",
    "    \n",
    "    # backward pass steps\n",
    "    a2_err = y - a2 # 4x1\n",
    "    a2_del = a2_err * sigmoid(a2, deriv=True) # 4x1\n",
    "    \n",
    "    a1_err = a2_del.dot(W1.T) # 4x4\n",
    "    a1_del = a1_err * sigmoid(a1, deriv=True) # 4x4\n",
    "    \n",
    "    W1 += a1.T.dot(a2_del)\n",
    "    W0 += a0.T.dot(a1_del)\n",
    "    "
   ]
  },
  {
   "cell_type": "code",
   "execution_count": 9,
   "id": "585f2486-9d41-405a-abdb-34519e2b4d67",
   "metadata": {},
   "outputs": [],
   "source": [
    "# iter 2\n",
    "X = np.array([[0,0,1],[0,1,1],[1,0,1],[1,1,1]]) # (4,3) shape\n",
    "y = np.array([[0,1,1,0]]).T\n",
    "W0 = np.random.random(tuple(reversed(list(X.shape)))) # (3,4)\n",
    "W1 = np.random.random((y.shape[0],1)) # (4,1)\n",
    "\n",
    "def sigmoid(x, deriv=False):\n",
    "    if deriv is True:\n",
    "        return x*(1-x)\n",
    "    return 1/(1 + np.exp(-x))\n",
    "\n",
    "for j in range(10000):\n",
    "    a0 = X\n",
    "    a1 = sigmoid(np.dot(a0, W0)) # (4,4)\n",
    "    a2 = sigmoid(np.dot(a1, W1)) # (4,1)\n",
    "    a2_err = y - a2 # (4,1)\n",
    "    a2_del = a2_err * sigmoid(a2, deriv=True) # (4,1)\n",
    "    \n",
    "    a1_err = a2_del.dot(W1.T) # (4,1).dot(1,4) = (4,4)\n",
    "    a1_del = a1_err * sigmoid(a1, deriv=True) #(4,4)\n",
    "    \n",
    "    W1 += a1.T.dot(a2_del)\n",
    "    W0 += a0.T.dot(a1_del)"
   ]
  },
  {
   "cell_type": "code",
   "execution_count": 10,
   "id": "0a1d81e4-345b-4954-911e-8f71fcfbbb5c",
   "metadata": {},
   "outputs": [
    {
     "data": {
      "text/plain": [
       "array([[0.],\n",
       "       [1.],\n",
       "       [1.],\n",
       "       [0.]])"
      ]
     },
     "execution_count": 10,
     "metadata": {},
     "output_type": "execute_result"
    }
   ],
   "source": [
    "np.rint(a2)"
   ]
  },
  {
   "cell_type": "code",
   "execution_count": 7,
   "id": "7db9d4f9-119b-4c6c-b768-92599df3926a",
   "metadata": {},
   "outputs": [
    {
     "data": {
      "text/plain": [
       "(3, 4)"
      ]
     },
     "execution_count": 7,
     "metadata": {},
     "output_type": "execute_result"
    }
   ],
   "source": [
    "tuple(reversed(list(X.shape)))"
   ]
  },
  {
   "cell_type": "markdown",
   "id": "dd04cfa8-261f-445e-8550-5e4ff37bbe9e",
   "metadata": {},
   "source": [
    "x---w0---a1--w1--a2\n"
   ]
  },
  {
   "cell_type": "code",
   "execution_count": null,
   "id": "6d221f94-e848-46ca-95b7-5685af8b96d0",
   "metadata": {},
   "outputs": [],
   "source": [
    "X = np.array([[0,0,1],[0,1,1],[1,0,1],[1,1,1]]) # 4,3\n",
    "y = np.array([[0,1,1,0]]).T\n",
    "W0 = np.random.random((3,4))\n",
    "W1 = np.random.random(4,1)\n",
    "def sigmoid(x, deriv=False):\n",
    "    if deriv:\n",
    "        return x*(1-x)\n",
    "    return 1/(1 + np.exp(-x))\n",
    "\n",
    "\n",
    "for j in range(10000):\n",
    "    a0 = X\n",
    "    a1 = sigmoid(np.dot(a0, W0)) # 4,4\n",
    "    a2 = sigmoid(np.dot(a1,W1))\n",
    "    a2_err = y - a2\n",
    "    a2_del = a2_err * sigmoid(a2, deriv=True) # 4,1\n",
    "    \n",
    "    a1_err = a2_del.dot(W1.T)\n",
    "    a1_del = a1_err * sigmoid(a1, deriv=True) # 4,4\n",
    "    \n",
    "    W1 += a1.T.dot(a2_del)\n",
    "    W0 += a0.T.dot(a1_del)\n"
   ]
  }
 ],
 "metadata": {
  "kernelspec": {
   "display_name": "Python 3 (ipykernel)",
   "language": "python",
   "name": "python3"
  },
  "language_info": {
   "codemirror_mode": {
    "name": "ipython",
    "version": 3
   },
   "file_extension": ".py",
   "mimetype": "text/x-python",
   "name": "python",
   "nbconvert_exporter": "python",
   "pygments_lexer": "ipython3",
   "version": "3.8.10"
  }
 },
 "nbformat": 4,
 "nbformat_minor": 5
}
